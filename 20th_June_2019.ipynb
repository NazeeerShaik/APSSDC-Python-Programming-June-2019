{
 "cells": [
  {
   "cell_type": "markdown",
   "metadata": {},
   "source": [
    "### Regular Expressions"
   ]
  },
  {
   "cell_type": "markdown",
   "metadata": {},
   "source": [
    "- pattern matching\n",
    "- symbolic noation of pattern\n",
    "    - Pattern:Fomat which repeats\n",
    "    - Pattern(RE) - The set of all strings matches that pattern\n",
    "- [0-9] -> Any digit\n",
    "- [a-z] -> Any lowercase letter\n",
    "- [2,4,6,8] -> All single digit multiples of 2"
   ]
  },
  {
   "cell_type": "code",
   "execution_count": null,
   "metadata": {},
   "outputs": [],
   "source": []
  },
  {
   "cell_type": "markdown",
   "metadata": {},
   "source": [
    "username@domain.extension\n",
    "- user name\n",
    "    - Length of user name : [6,15]\n",
    "    - No special char other than _,.\n",
    "    - Should not start and end with _,.\n",
    "- domain\n",
    "    - Length of domain : [3,18]\n",
    "- extension\n",
    "    - Length of extension: [2,4]"
   ]
  },
  {
   "cell_type": "code",
   "execution_count": null,
   "metadata": {},
   "outputs": [],
   "source": []
  },
  {
   "cell_type": "markdown",
   "metadata": {},
   "source": [
    "### File handling in Python"
   ]
  },
  {
   "cell_type": "markdown",
   "metadata": {},
   "source": [
    "- File - Document containing information residing on the permanent storage\n",
    "\n",
    "- Types\n",
    "        - Text\n",
    "        - PDF\n",
    "        - CSV"
   ]
  },
  {
   "cell_type": "markdown",
   "metadata": {},
   "source": [
    "File I/O\n",
    "Channeling I/O data to files\n",
    "\n",
    "Default I/O channels - Keyboard / Screen\n",
    "\n",
    "Change I/O channel to files for Reading and Writing \n",
    "\n",
    "Read a file - Input from file\n",
    "\n",
    "Write to a file - Output to a file\n",
    "\n",
    "Read/Write file- open(filename,mode)"
   ]
  },
  {
   "cell_type": "code",
   "execution_count": 59,
   "metadata": {},
   "outputs": [
    {
     "name": "stdout",
     "output_type": "stream",
     "text": [
      "Hi,I am a Text file !\n",
      "\n",
      "Glad to know that you open me :)\n"
     ]
    }
   ],
   "source": [
    "file=open(\"input.txt\",'r');\n",
    "for line in file:\n",
    "    print(line);\n",
    "file.close()"
   ]
  },
  {
   "cell_type": "code",
   "execution_count": 58,
   "metadata": {},
   "outputs": [
    {
     "name": "stdout",
     "output_type": "stream",
     "text": [
      "\n"
     ]
    }
   ],
   "source": [
    "def readFile(filename):\n",
    "    f=open(filename,'r');\n",
    "    filedata=f.read();\n",
    "    f.close();\n",
    "    return filedata;\n",
    "data=readFile(\"input.txt\").split('\\n')\n",
    "#print(type(data))\n",
    "for line in data:\n",
    "    print(line)"
   ]
  },
  {
   "cell_type": "code",
   "execution_count": null,
   "metadata": {},
   "outputs": [],
   "source": [
    "\n"
   ]
  },
  {
   "cell_type": "code",
   "execution_count": null,
   "metadata": {},
   "outputs": [],
   "source": []
  }
 ],
 "metadata": {
  "kernelspec": {
   "display_name": "Python 3",
   "language": "python",
   "name": "python3"
  },
  "language_info": {
   "codemirror_mode": {
    "name": "ipython",
    "version": 3
   },
   "file_extension": ".py",
   "mimetype": "text/x-python",
   "name": "python",
   "nbconvert_exporter": "python",
   "pygments_lexer": "ipython3",
   "version": "3.7.3"
  }
 },
 "nbformat": 4,
 "nbformat_minor": 2
}
