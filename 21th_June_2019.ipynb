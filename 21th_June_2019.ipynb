{
 "cells": [
  {
   "cell_type": "code",
   "execution_count": 17,
   "metadata": {},
   "outputs": [],
   "source": [
    "def addContact(filename,name,phone,email):\n",
    "    file=open(filename,'a');\n",
    "    file.write(name+\" \"+phone+\" \"+email);\n",
    "    file.close();"
   ]
  },
  {
   "cell_type": "code",
   "execution_count": 19,
   "metadata": {},
   "outputs": [],
   "source": [
    "def readFile(filename):\n",
    "    file=open(filename,'r');\n",
    "    for line in file:\n",
    "        print(line);"
   ]
  },
  {
   "cell_type": "code",
   "execution_count": 27,
   "metadata": {},
   "outputs": [
    {
     "name": "stdout",
     "output_type": "stream",
     "text": [
      "hello 898928924392 wruoiwueroiu@gamil.com\n"
     ]
    }
   ],
   "source": [
    "def deleteContact(filename,phone):\n",
    "    file=open(filename,'w+');\n",
    "    for line in file:\n",
    "        if phone in line:\n",
    "            line=\" \";\n",
    "addContact(\"contacts.txt\",\"hello\",\"898928924392\",\"wruoiwueroiu@gamil.com\")\n",
    "readFile(\"contacts.txt\")\n",
    "deleteContact(\"contacts.txt\",89898989)\n",
    "readFile(\"contacts.txt\")"
   ]
  },
  {
   "cell_type": "code",
   "execution_count": null,
   "metadata": {},
   "outputs": [],
   "source": []
  }
 ],
 "metadata": {
  "kernelspec": {
   "display_name": "Python 3",
   "language": "python",
   "name": "python3"
  },
  "language_info": {
   "codemirror_mode": {
    "name": "ipython",
    "version": 3
   },
   "file_extension": ".py",
   "mimetype": "text/x-python",
   "name": "python",
   "nbconvert_exporter": "python",
   "pygments_lexer": "ipython3",
   "version": "3.7.3"
  }
 },
 "nbformat": 4,
 "nbformat_minor": 2
}
